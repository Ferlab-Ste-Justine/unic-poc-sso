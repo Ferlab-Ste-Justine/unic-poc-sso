{
 "cells": [
  {
   "cell_type": "code",
   "execution_count": 1,
   "id": "ab53471b-379b-4c0c-875d-897842812e51",
   "metadata": {},
   "outputs": [
    {
     "name": "stdout",
     "output_type": "stream",
     "text": [
      "hello\n"
     ]
    }
   ],
   "source": [
    "print(\"hello\")"
   ]
  },
  {
   "cell_type": "code",
   "execution_count": 2,
   "id": "7d13f25f-dba2-43a8-aca8-5e250fb27434",
   "metadata": {},
   "outputs": [],
   "source": [
    "import boto3\n",
    "my_session = boto3.session.Session()\n",
    "s3 = my_session.resource('s3', \n",
    "  endpoint_url='http://minio:9000', \n",
    "  config=boto3.session.Config(signature_version='s3v4')\n",
    ")"
   ]
  },
  {
   "cell_type": "code",
   "execution_count": 3,
   "id": "6ce8ad1b-6859-4792-9f6a-d3f929a85682",
   "metadata": {},
   "outputs": [
    {
     "name": "stdout",
     "output_type": "stream",
     "text": [
      "X2GZO4YV5FYRFWYTPBT2\n"
     ]
    }
   ],
   "source": [
    "print(my_session.get_credentials().access_key)"
   ]
  },
  {
   "cell_type": "code",
   "execution_count": 4,
   "id": "dd8f35f2-c6d4-4a44-a03e-b697af1feb68",
   "metadata": {},
   "outputs": [
    {
     "name": "stdout",
     "output_type": "stream",
     "text": [
      "s3.ObjectSummary(bucket_name='test', key='get_token.sh')\n",
      "s3.ObjectSummary(bucket_name='test', key='stocks.csv')\n"
     ]
    }
   ],
   "source": [
    "my_bucket = s3.Bucket('test')\n",
    "for my_bucket_object in my_bucket.objects.all():\n",
    "    print(my_bucket_object)"
   ]
  },
  {
   "cell_type": "code",
   "execution_count": null,
   "id": "bfaf4e39-cffa-44de-a1e0-dc300ef80ea4",
   "metadata": {},
   "outputs": [],
   "source": []
  }
 ],
 "metadata": {
  "kernelspec": {
   "display_name": "Python 3 (ipykernel)",
   "language": "python",
   "name": "python3"
  },
  "language_info": {
   "codemirror_mode": {
    "name": "ipython",
    "version": 3
   },
   "file_extension": ".py",
   "mimetype": "text/x-python",
   "name": "python",
   "nbconvert_exporter": "python",
   "pygments_lexer": "ipython3",
   "version": "3.10.6"
  }
 },
 "nbformat": 4,
 "nbformat_minor": 5
}
